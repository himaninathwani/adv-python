{
 "cells": [
  {
   "cell_type": "code",
   "execution_count": 1,
   "id": "4e1f3570",
   "metadata": {},
   "outputs": [],
   "source": [
    "# STREAMLIT - A FRAMEWORK IN PYTHON - FROM THAT WE CAN CREATE WEB APP"
   ]
  },
  {
   "cell_type": "code",
   "execution_count": 1,
   "id": "54228d3d",
   "metadata": {},
   "outputs": [],
   "source": [
    "# TO CREATE UI FOR ANY APPLICATION WE USE - STREAMLIT"
   ]
  },
  {
   "cell_type": "code",
   "execution_count": 2,
   "id": "9cba6f45",
   "metadata": {},
   "outputs": [],
   "source": [
    "# Convection in python create repository --> name file requirements.txt as it will download all the required extenxions for python working in github"
   ]
  },
  {
   "cell_type": "code",
   "execution_count": 3,
   "id": "5d95000e",
   "metadata": {},
   "outputs": [],
   "source": [
    "# streamlit to request api info\n",
    "# Requests to get info on various requests\n",
    "# plotly for visualization in graph\n",
    "# numpy and pandas lib for there uses\n",
    " "
   ]
  },
  {
   "cell_type": "code",
   "execution_count": 4,
   "id": "41edb5ef",
   "metadata": {},
   "outputs": [],
   "source": [
    "# Deploy - to make it public"
   ]
  },
  {
   "cell_type": "code",
   "execution_count": 5,
   "id": "32575375",
   "metadata": {},
   "outputs": [],
   "source": [
    "# Codespace in built in github - it free for 60 hours per month"
   ]
  },
  {
   "cell_type": "code",
   "execution_count": 6,
   "id": "6b97754e",
   "metadata": {},
   "outputs": [],
   "source": [
    "# Create new folder with .streamlit for saving secrets to it"
   ]
  },
  {
   "cell_type": "code",
   "execution_count": 7,
   "id": "d9d3402e",
   "metadata": {},
   "outputs": [],
   "source": [
    "# secrets.toml = file name to store secrets in it"
   ]
  },
  {
   "cell_type": "code",
   "execution_count": 8,
   "id": "5b4de6da",
   "metadata": {},
   "outputs": [],
   "source": [
    "# U = means untracked not tracked in github"
   ]
  },
  {
   "cell_type": "code",
   "execution_count": 10,
   "id": "eee9f821",
   "metadata": {},
   "outputs": [],
   "source": [
    "# if we add = # streamlit secrets /n .streamlit/ this to gitignore\n",
    "# it will not track the file"
   ]
  },
  {
   "cell_type": "code",
   "execution_count": 11,
   "id": "0e8a4041",
   "metadata": {},
   "outputs": [],
   "source": [
    "# WE will create streamlit app using python only"
   ]
  },
  {
   "cell_type": "code",
   "execution_count": 1,
   "id": "0e8b3e09",
   "metadata": {},
   "outputs": [],
   "source": [
    "# With streamlit if we use we dont need CSS or python knowledge we can just create app with python knowledge also"
   ]
  },
  {
   "cell_type": "code",
   "execution_count": 2,
   "id": "49a0a27c",
   "metadata": {},
   "outputs": [],
   "source": [
    "# python -m streamlit run app.py with this syntax we can run the app.py file "
   ]
  },
  {
   "cell_type": "code",
   "execution_count": null,
   "id": "56d2a542",
   "metadata": {},
   "outputs": [],
   "source": []
  }
 ],
 "metadata": {
  "kernelspec": {
   "display_name": "venv",
   "language": "python",
   "name": "python3"
  },
  "language_info": {
   "codemirror_mode": {
    "name": "ipython",
    "version": 3
   },
   "file_extension": ".py",
   "mimetype": "text/x-python",
   "name": "python",
   "nbconvert_exporter": "python",
   "pygments_lexer": "ipython3",
   "version": "3.13.3"
  }
 },
 "nbformat": 4,
 "nbformat_minor": 5
}
